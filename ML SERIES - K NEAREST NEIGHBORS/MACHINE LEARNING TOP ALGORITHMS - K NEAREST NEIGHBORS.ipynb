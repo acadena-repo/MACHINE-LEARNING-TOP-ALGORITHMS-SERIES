{
 "cells": [
  {
   "cell_type": "markdown",
   "metadata": {},
   "source": [
    "# _K NEAREST NEIGHBORS ALGORITHM_\n",
    "\n",
    "### MODEL REPRESENTATION:\n",
    "The model representation for KNN is the entire training dataset which is used to make predictions on new data by searching through the entire training set for the k most similar instances and summarizing the output variable for those k instances.\n",
    "\n",
    "KNN can be used for regression and classification tasks. For regression, the algorithm prediction might be the mean output variable, in classification this might be the mode (or most common) class value.\n",
    "\n",
    "To determine which of the k instances in the training dataset are most similar to a new input a distance measure is used. The most popular distance measure is Euclidean distance but there are other options that may sometimes be better, for example:\n",
    "- Manhatan distance (L1 Norm)\n",
    "- Edit distance (How many add/delete/substitutions are required to transform one string to the other)\n",
    "- Correlation distance (Measures how correlated two vectors are for signal detection)\n"
   ]
  },
  {
   "cell_type": "markdown",
   "metadata": {},
   "source": [
    "### Euclidean distance:\n",
    "\n",
    "**Let $x = (x_1,x_2,x_3,...,x_n)$, $j = (j_1,j_2,j_3,...,j_n)$ be points in $R^n$ space, and $D$ the Euclidean distance, then:**\n",
    "** **\n",
    "$$D = \\sqrt{(x_1 - j_1)^2 + (x_2 - j_2)^2 + (x_3 - j_3)^2 + .... + (x_n - j_n)^2}$$\n",
    "** **"
   ]
  },
  {
   "cell_type": "markdown",
   "metadata": {},
   "source": [
    "KNN works well with a small number of input variables, but struggles when the number of inputs is very large. Each input variable can be considered a dimension of a n-dimensional input space. As the number of dimensions increases the volume of the input space increases at an exponential rate.\n",
    "\n",
    "In high dimensions, points that may be similar may have very large distances. All points will be far away from each other and our intuition for distances in simple 2 and 3 dimensional spaces breaks down."
   ]
  },
  {
   "cell_type": "markdown",
   "metadata": {},
   "source": [
    "## PROCESSING DATA FOR KNN:\n",
    "\n",
    "In order to setup a good training dataset that can be used for KNN model some pre-processing should be done on the dataset.\n",
    "\n",
    "1.- Scailing data: KNN performs much better if all of the data has the same scale. Normalizing the data to the range [0,1] is a good idea. It may also be a good idea to Standardize the data if it has a Gaussian distribution.\n",
    "\n",
    "2.- Missing data: Missing data must be addressed due to the distance between samples cannot be calculated.\n",
    "** **"
   ]
  },
  {
   "cell_type": "markdown",
   "metadata": {},
   "source": [
    "Ok, let's start with the implementation of `K Nearest Neighbor` from scratch. The Algorithm is very simple yet very effective. Two main steps have to be implemented for the `K Nearest Neighbor`:\n",
    "\n",
    "**1.- How to calculate the Euclidean distance between real valued vectors**\n",
    "\n",
    "**2.- How to use Euclidean distance and the training dataset to make predictions for new data**\n"
   ]
  },
  {
   "cell_type": "code",
   "execution_count": 1,
   "metadata": {},
   "outputs": [],
   "source": [
    "##IMPORTING ALL NECESSARY SUPPORT LIBRARIES\n",
    "import pandas as pd\n",
    "import matplotlib.pyplot as plt\n",
    "%matplotlib inline"
   ]
  },
  {
   "cell_type": "code",
   "execution_count": 2,
   "metadata": {},
   "outputs": [],
   "source": [
    "def euclidean(V1, V2):\n",
    "    '''\n",
    "    arguments:\n",
    "        > V1: List of numbers for a vector in R^n\n",
    "        > V2: List of numbers for a vector in R^n\n",
    "    returns:\n",
    "        > The Euclidean distance of V1 & V2\n",
    "    '''\n",
    "    ##GETTING THE SQUARE DIFFERENCES\n",
    "    sqr_diff = [(x - j)**2 for x,j in zip(V1, V2)]\n",
    "    ##CALCULATING THE EUCLIDEAN DISTANCE\n",
    "    e_dist = sum(sqr_diff)**0.5\n",
    "    \n",
    "    return e_dist"
   ]
  },
  {
   "cell_type": "code",
   "execution_count": 3,
   "metadata": {},
   "outputs": [],
   "source": [
    "def knn_predict(train, labels, point, k, model):\n",
    "    '''\n",
    "    arguments:\n",
    "        > train: array type, used as training dataset\n",
    "        > labels: array type, lables of training dataset\n",
    "        > point: array type, test point\n",
    "        > k: integer, number of neighbors used to estimate prediction\n",
    "        > model: string, type of prediction: 'C' for Classification or 'R' for Regression\n",
    "    returns:\n",
    "        > The prediction made for test point according with model selected\n",
    "    '''\n",
    "    ##CALCULATING EUCLIDEAN DISTANCES\n",
    "    distances = []\n",
    "    for i, row in enumerate(train):\n",
    "        distances.append((labels[i],euclidean(row, point)))\n",
    "    ##SORT LIST BASED ON DISTANCES\n",
    "    distances.sort(key = lambda d: d[1])\n",
    "    ##GETTING VOTES FROM NEIGHBORS\n",
    "    neighbors = [distances[n][0] for n in range(k)]\n",
    "    \n",
    "    ##PREDICTING TARGET ACCORDING WITH MODEL SELECTION\n",
    "    if model == 'C':\n",
    "        prediction = int(max(set(neighbors), key = neighbors.count))\n",
    "    elif model == 'R':\n",
    "        prediction = sum(neighbors)/float(len(neighbors))\n",
    "    \n",
    "    return prediction"
   ]
  },
  {
   "cell_type": "markdown",
   "metadata": {},
   "source": [
    "In order to verify proper implementation a **toy dataset** is used to evaluate the algorithm."
   ]
  },
  {
   "cell_type": "code",
   "execution_count": 4,
   "metadata": {},
   "outputs": [
    {
     "data": {
      "text/html": [
       "<div>\n",
       "<style scoped>\n",
       "    .dataframe tbody tr th:only-of-type {\n",
       "        vertical-align: middle;\n",
       "    }\n",
       "\n",
       "    .dataframe tbody tr th {\n",
       "        vertical-align: top;\n",
       "    }\n",
       "\n",
       "    .dataframe thead th {\n",
       "        text-align: right;\n",
       "    }\n",
       "</style>\n",
       "<table border=\"1\" class=\"dataframe\">\n",
       "  <thead>\n",
       "    <tr style=\"text-align: right;\">\n",
       "      <th></th>\n",
       "      <th>X1</th>\n",
       "      <th>X2</th>\n",
       "      <th>y</th>\n",
       "    </tr>\n",
       "  </thead>\n",
       "  <tbody>\n",
       "    <tr>\n",
       "      <th>0</th>\n",
       "      <td>2.781084</td>\n",
       "      <td>2.550537</td>\n",
       "      <td>0</td>\n",
       "    </tr>\n",
       "    <tr>\n",
       "      <th>1</th>\n",
       "      <td>1.465489</td>\n",
       "      <td>2.362125</td>\n",
       "      <td>0</td>\n",
       "    </tr>\n",
       "    <tr>\n",
       "      <th>2</th>\n",
       "      <td>3.393533</td>\n",
       "      <td>2.331273</td>\n",
       "      <td>0</td>\n",
       "    </tr>\n",
       "    <tr>\n",
       "      <th>3</th>\n",
       "      <td>3.110073</td>\n",
       "      <td>1.781540</td>\n",
       "      <td>0</td>\n",
       "    </tr>\n",
       "    <tr>\n",
       "      <th>4</th>\n",
       "      <td>1.343809</td>\n",
       "      <td>3.368361</td>\n",
       "      <td>0</td>\n",
       "    </tr>\n",
       "    <tr>\n",
       "      <th>5</th>\n",
       "      <td>3.582294</td>\n",
       "      <td>4.679179</td>\n",
       "      <td>0</td>\n",
       "    </tr>\n",
       "    <tr>\n",
       "      <th>6</th>\n",
       "      <td>2.280362</td>\n",
       "      <td>2.866990</td>\n",
       "      <td>0</td>\n",
       "    </tr>\n",
       "    <tr>\n",
       "      <th>7</th>\n",
       "      <td>7.627531</td>\n",
       "      <td>2.759262</td>\n",
       "      <td>1</td>\n",
       "    </tr>\n",
       "    <tr>\n",
       "      <th>8</th>\n",
       "      <td>5.332441</td>\n",
       "      <td>2.088627</td>\n",
       "      <td>1</td>\n",
       "    </tr>\n",
       "    <tr>\n",
       "      <th>9</th>\n",
       "      <td>7.423437</td>\n",
       "      <td>4.696523</td>\n",
       "      <td>1</td>\n",
       "    </tr>\n",
       "    <tr>\n",
       "      <th>10</th>\n",
       "      <td>5.745052</td>\n",
       "      <td>3.533990</td>\n",
       "      <td>1</td>\n",
       "    </tr>\n",
       "    <tr>\n",
       "      <th>11</th>\n",
       "      <td>9.172169</td>\n",
       "      <td>2.511101</td>\n",
       "      <td>1</td>\n",
       "    </tr>\n",
       "    <tr>\n",
       "      <th>12</th>\n",
       "      <td>7.792783</td>\n",
       "      <td>3.424089</td>\n",
       "      <td>1</td>\n",
       "    </tr>\n",
       "    <tr>\n",
       "      <th>13</th>\n",
       "      <td>7.939821</td>\n",
       "      <td>0.791637</td>\n",
       "      <td>1</td>\n",
       "    </tr>\n",
       "  </tbody>\n",
       "</table>\n",
       "</div>"
      ],
      "text/plain": [
       "          X1        X2  y\n",
       "0   2.781084  2.550537  0\n",
       "1   1.465489  2.362125  0\n",
       "2   3.393533  2.331273  0\n",
       "3   3.110073  1.781540  0\n",
       "4   1.343809  3.368361  0\n",
       "5   3.582294  4.679179  0\n",
       "6   2.280362  2.866990  0\n",
       "7   7.627531  2.759262  1\n",
       "8   5.332441  2.088627  1\n",
       "9   7.423437  4.696523  1\n",
       "10  5.745052  3.533990  1\n",
       "11  9.172169  2.511101  1\n",
       "12  7.792783  3.424089  1\n",
       "13  7.939821  0.791637  1"
      ]
     },
     "execution_count": 4,
     "metadata": {},
     "output_type": "execute_result"
    }
   ],
   "source": [
    "data = pd.read_csv('./data/Toy.csv')\n",
    "data"
   ]
  },
  {
   "cell_type": "markdown",
   "metadata": {},
   "source": [
    "One of the points in the dataset is selected and a prediction is run"
   ]
  },
  {
   "cell_type": "code",
   "execution_count": 5,
   "metadata": {},
   "outputs": [
    {
     "data": {
      "text/plain": [
       "1"
      ]
     },
     "execution_count": 5,
     "metadata": {},
     "output_type": "execute_result"
    }
   ],
   "source": [
    "jp = data.iloc[11,:-1].values\n",
    "train = data.drop(['y'], axis=1).values\n",
    "lables = data['y'].values\n",
    "pred = knn_predict(train, lables, jp, 3, 'C')\n",
    "pred"
   ]
  },
  {
   "cell_type": "markdown",
   "metadata": {},
   "source": [
    "The points are graphed.\n",
    "- All points of Class = 0 are colored in green\n",
    "- All points of Class = 1 are colored in red\n",
    "- The test point is colored in black"
   ]
  },
  {
   "cell_type": "code",
   "execution_count": 6,
   "metadata": {},
   "outputs": [
    {
     "data": {
      "image/png": "[encoded data removed]",
      "text/plain": [
       "<Figure size 432x288 with 1 Axes>"
      ]
     },
     "metadata": {
      "needs_background": "light"
     },
     "output_type": "display_data"
    }
   ],
   "source": [
    "x10 = data.loc[data['y']==0].iloc[:,-3].values\n",
    "x20 = data.loc[data['y']==0].iloc[:,-2].values\n",
    "x11 = data.loc[data['y']==1].iloc[:,-3].values\n",
    "x21 = data.loc[data['y']==1].iloc[:,-2].values\n",
    "xp = jp[0]\n",
    "yp = jp[1]\n",
    "plt.scatter(x10,x20,c='g')\n",
    "plt.scatter(x11,x21,c='r')\n",
    "plt.scatter(xp,yp,c='k')\n",
    "plt.show()"
   ]
  },
  {
   "cell_type": "markdown",
   "metadata": {},
   "source": [
    "# KNN APPLICATION\n",
    "\n",
    "During the cleaning data process it is important to check for missing data, if missing data is more than **5%** an imputation technique should be applied to the dataset. `K Nearest Neighbors` can be used as imputation technique in this case.\n",
    "\n",
    "The _Titanic_ dataset is used to apply our KNN algorithm developed. Using the regression model all missing data on the _`Age`_ feature are estimated."
   ]
  },
  {
   "cell_type": "code",
   "execution_count": 7,
   "metadata": {},
   "outputs": [
    {
     "data": {
      "text/html": [
       "<div>\n",
       "<style scoped>\n",
       "    .dataframe tbody tr th:only-of-type {\n",
       "        vertical-align: middle;\n",
       "    }\n",
       "\n",
       "    .dataframe tbody tr th {\n",
       "        vertical-align: top;\n",
       "    }\n",
       "\n",
       "    .dataframe thead th {\n",
       "        text-align: right;\n",
       "    }\n",
       "</style>\n",
       "<table border=\"1\" class=\"dataframe\">\n",
       "  <thead>\n",
       "    <tr style=\"text-align: right;\">\n",
       "      <th></th>\n",
       "      <th>Pclass</th>\n",
       "      <th>Sex</th>\n",
       "      <th>Age</th>\n",
       "      <th>SibSp</th>\n",
       "      <th>Fare</th>\n",
       "      <th>Embarked</th>\n",
       "    </tr>\n",
       "  </thead>\n",
       "  <tbody>\n",
       "    <tr>\n",
       "      <th>0</th>\n",
       "      <td>3</td>\n",
       "      <td>male</td>\n",
       "      <td>22.0</td>\n",
       "      <td>1</td>\n",
       "      <td>7.2500</td>\n",
       "      <td>S</td>\n",
       "    </tr>\n",
       "    <tr>\n",
       "      <th>1</th>\n",
       "      <td>1</td>\n",
       "      <td>female</td>\n",
       "      <td>38.0</td>\n",
       "      <td>1</td>\n",
       "      <td>71.2833</td>\n",
       "      <td>C</td>\n",
       "    </tr>\n",
       "    <tr>\n",
       "      <th>2</th>\n",
       "      <td>3</td>\n",
       "      <td>female</td>\n",
       "      <td>26.0</td>\n",
       "      <td>0</td>\n",
       "      <td>7.9250</td>\n",
       "      <td>S</td>\n",
       "    </tr>\n",
       "    <tr>\n",
       "      <th>3</th>\n",
       "      <td>1</td>\n",
       "      <td>female</td>\n",
       "      <td>35.0</td>\n",
       "      <td>1</td>\n",
       "      <td>53.1000</td>\n",
       "      <td>S</td>\n",
       "    </tr>\n",
       "    <tr>\n",
       "      <th>4</th>\n",
       "      <td>3</td>\n",
       "      <td>male</td>\n",
       "      <td>35.0</td>\n",
       "      <td>0</td>\n",
       "      <td>8.0500</td>\n",
       "      <td>S</td>\n",
       "    </tr>\n",
       "  </tbody>\n",
       "</table>\n",
       "</div>"
      ],
      "text/plain": [
       "   Pclass     Sex   Age  SibSp     Fare Embarked\n",
       "0       3    male  22.0      1   7.2500        S\n",
       "1       1  female  38.0      1  71.2833        C\n",
       "2       3  female  26.0      0   7.9250        S\n",
       "3       1  female  35.0      1  53.1000        S\n",
       "4       3    male  35.0      0   8.0500        S"
      ]
     },
     "execution_count": 7,
     "metadata": {},
     "output_type": "execute_result"
    }
   ],
   "source": [
    "##LOADING 'TITANIC' DATASET\n",
    "col = ['Pclass', 'SibSp', 'Fare', 'Sex', 'Embarked', 'Age']\n",
    "Titanic = pd.read_csv('./data/titanic.csv', usecols = col)\n",
    "Titanic.head()"
   ]
  },
  {
   "cell_type": "code",
   "execution_count": 8,
   "metadata": {},
   "outputs": [
    {
     "name": "stdout",
     "output_type": "stream",
     "text": [
      "missing data for Pclass:    0.0 [%]\n",
      "missing data for Sex:       0.0 [%]\n",
      "missing data for Age:       19.87 [%]\n",
      "missing data for SibSp:     0.0 [%]\n",
      "missing data for Fare:      0.0 [%]\n",
      "missing data for Embarked:  0.22 [%]\n"
     ]
    }
   ],
   "source": [
    "##GETTING PERCENTAGE OF MISSING VALUES FOR EACH FEATURE\n",
    "print('missing data for Pclass:   ',round(Titanic['Pclass'].isnull().mean()*100,2),'[%]')\n",
    "print('missing data for Sex:      ',round(Titanic['Sex'].isnull().mean()*100,2),'[%]')\n",
    "print('missing data for Age:      ',round(Titanic['Age'].isnull().mean()*100,2),'[%]')\n",
    "print('missing data for SibSp:    ',round(Titanic['SibSp'].isnull().mean()*100,2),'[%]')\n",
    "print('missing data for Fare:     ',round(Titanic['Fare'].isnull().mean()*100,2),'[%]')\n",
    "print('missing data for Embarked: ',round(Titanic['Embarked'].isnull().mean()*100,2),'[%]')"
   ]
  },
  {
   "cell_type": "code",
   "execution_count": 9,
   "metadata": {},
   "outputs": [
    {
     "name": "stdout",
     "output_type": "stream",
     "text": [
      "Dataset original size:  (891, 6)\n",
      "Dataset not-null size:  (889, 6)\n"
     ]
    }
   ],
   "source": [
    "##DUE TO 'EMBARKED' FEATURE HAS LESS THAT 5% OF MISSING DATA ALL ITS NULL VALUES ARE DISCARDED\n",
    "print('Dataset original size: ', Titanic.shape)\n",
    "Titanic = Titanic.loc[Titanic['Embarked'].notnull()]\n",
    "print('Dataset not-null size: ', Titanic.shape)"
   ]
  },
  {
   "cell_type": "code",
   "execution_count": 10,
   "metadata": {},
   "outputs": [
    {
     "data": {
      "text/html": [
       "<div>\n",
       "<style scoped>\n",
       "    .dataframe tbody tr th:only-of-type {\n",
       "        vertical-align: middle;\n",
       "    }\n",
       "\n",
       "    .dataframe tbody tr th {\n",
       "        vertical-align: top;\n",
       "    }\n",
       "\n",
       "    .dataframe thead th {\n",
       "        text-align: right;\n",
       "    }\n",
       "</style>\n",
       "<table border=\"1\" class=\"dataframe\">\n",
       "  <thead>\n",
       "    <tr style=\"text-align: right;\">\n",
       "      <th></th>\n",
       "      <th>Pclass</th>\n",
       "      <th>Age</th>\n",
       "      <th>SibSp</th>\n",
       "      <th>Fare</th>\n",
       "      <th>Sex_male</th>\n",
       "      <th>Embarked_Q</th>\n",
       "      <th>Embarked_S</th>\n",
       "    </tr>\n",
       "  </thead>\n",
       "  <tbody>\n",
       "    <tr>\n",
       "      <th>0</th>\n",
       "      <td>3</td>\n",
       "      <td>22.0</td>\n",
       "      <td>1</td>\n",
       "      <td>7.2500</td>\n",
       "      <td>1</td>\n",
       "      <td>0</td>\n",
       "      <td>1</td>\n",
       "    </tr>\n",
       "    <tr>\n",
       "      <th>1</th>\n",
       "      <td>1</td>\n",
       "      <td>38.0</td>\n",
       "      <td>1</td>\n",
       "      <td>71.2833</td>\n",
       "      <td>0</td>\n",
       "      <td>0</td>\n",
       "      <td>0</td>\n",
       "    </tr>\n",
       "    <tr>\n",
       "      <th>2</th>\n",
       "      <td>3</td>\n",
       "      <td>26.0</td>\n",
       "      <td>0</td>\n",
       "      <td>7.9250</td>\n",
       "      <td>0</td>\n",
       "      <td>0</td>\n",
       "      <td>1</td>\n",
       "    </tr>\n",
       "    <tr>\n",
       "      <th>3</th>\n",
       "      <td>1</td>\n",
       "      <td>35.0</td>\n",
       "      <td>1</td>\n",
       "      <td>53.1000</td>\n",
       "      <td>0</td>\n",
       "      <td>0</td>\n",
       "      <td>1</td>\n",
       "    </tr>\n",
       "    <tr>\n",
       "      <th>4</th>\n",
       "      <td>3</td>\n",
       "      <td>35.0</td>\n",
       "      <td>0</td>\n",
       "      <td>8.0500</td>\n",
       "      <td>1</td>\n",
       "      <td>0</td>\n",
       "      <td>1</td>\n",
       "    </tr>\n",
       "  </tbody>\n",
       "</table>\n",
       "</div>"
      ],
      "text/plain": [
       "   Pclass   Age  SibSp     Fare  Sex_male  Embarked_Q  Embarked_S\n",
       "0       3  22.0      1   7.2500         1           0           1\n",
       "1       1  38.0      1  71.2833         0           0           0\n",
       "2       3  26.0      0   7.9250         0           0           1\n",
       "3       1  35.0      1  53.1000         0           0           1\n",
       "4       3  35.0      0   8.0500         1           0           1"
      ]
     },
     "execution_count": 10,
     "metadata": {},
     "output_type": "execute_result"
    }
   ],
   "source": [
    "##FEATURE VARIABLES SUCH AS 'SEX' & 'EMBARKED' SHOULD BE ENCODED IN ORDER TO BE USED\n",
    "one_hot = ['Sex','Embarked']\n",
    "Titanic = pd.get_dummies(Titanic, prefix = one_hot, columns = one_hot, drop_first = True)\n",
    "Titanic.head()"
   ]
  },
  {
   "cell_type": "code",
   "execution_count": 11,
   "metadata": {},
   "outputs": [],
   "source": [
    "##GETTING THE TRAIN DATASET\n",
    "df_train = Titanic[Titanic.Age.notnull()]\n",
    "##GETTING THE DATASET TO BE IMPUTED (ONLY 10 VALUES)\n",
    "df_impute = Titanic[Titanic.Age.isnull()].drop('Age', axis = 1).tail(10)"
   ]
  },
  {
   "cell_type": "code",
   "execution_count": 12,
   "metadata": {},
   "outputs": [
    {
     "data": {
      "text/plain": [
       "[24.8, 25.8, 41.8, 37.0, 39.8, 24.8, 37.0, 26.2, 29.6, 26.8]"
      ]
     },
     "execution_count": 12,
     "metadata": {},
     "output_type": "execute_result"
    }
   ],
   "source": [
    "##PREDICTING 'AGE' VALUES WITH KNN\n",
    "train = df_train.drop(['Age'], axis = 1).values\n",
    "labels = df_train['Age'].values\n",
    "impute = df_impute.values\n",
    "age_impute = []\n",
    "for jp in impute:\n",
    "    age_impute.append(knn_predict(train, labels, jp, 5, 'R'))\n",
    "\n",
    "age_impute"
   ]
  },
  {
   "cell_type": "markdown",
   "metadata": {},
   "source": [
    "To compare our predictions on feature _`Age`_ the library `sklearn` is used"
   ]
  },
  {
   "cell_type": "code",
   "execution_count": 13,
   "metadata": {},
   "outputs": [
    {
     "data": {
      "text/plain": [
       "array([24.8, 27.9, 41.8, 37. , 39.8, 24.8, 37. , 23.4, 33. , 26.8])"
      ]
     },
     "execution_count": 13,
     "metadata": {},
     "output_type": "execute_result"
    }
   ],
   "source": [
    "##GET AND INSTANCIATE KNN MODEL\n",
    "from sklearn.neighbors import KNeighborsRegressor\n",
    "knr = KNeighborsRegressor()\n",
    "##GET TRAINING DATA\n",
    "X_train = df_train.drop('Age', axis = 1)\n",
    "y_train = df_train['Age']\n",
    "##FIT MODEL\n",
    "knr.fit(X_train, y_train)\n",
    "#GET PREDICTIONS\n",
    "imputed_ages = knr.predict(df_impute)\n",
    "imputed_ages"
   ]
  }
 ],
 "metadata": {
  "kernelspec": {
   "display_name": "Python 3",
   "language": "python",
   "name": "python3"
  },
  "language_info": {
   "codemirror_mode": {
    "name": "ipython",
    "version": 3
   },
   "file_extension": ".py",
   "mimetype": "text/x-python",
   "name": "python",
   "nbconvert_exporter": "python",
   "pygments_lexer": "ipython3",
   "version": "3.7.3"
  }
 },
 "nbformat": 4,
 "nbformat_minor": 2
}
